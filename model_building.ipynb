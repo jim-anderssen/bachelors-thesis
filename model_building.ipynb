{
 "cells": [
  {
   "cell_type": "markdown",
   "id": "19ba1aec-6f3c-4d93-a3ed-7db246cc1b25",
   "metadata": {},
   "source": [
    "# Combining data from EU CRM and GEA OekoRess II studies \n",
    "\n",
    "### Constructing the parameters for the waste stream model"
   ]
  },
  {
   "cell_type": "code",
   "execution_count": 101,
   "id": "326ea877-9912-4863-83ac-558ef0c5b0a3",
   "metadata": {
    "tags": []
   },
   "outputs": [],
   "source": [
    "import pandas as pd\n",
    "import numpy as np\n",
    "from sklearn.cluster import DBSCAN\n",
    "from sklearn.preprocessing import StandardScaler\n",
    "from sklearn.preprocessing import MinMaxScaler\n",
    "import matplotlib.pyplot as plt\n",
    "\n",
    "pd.set_option('display.max_rows', None)"
   ]
  },
  {
   "cell_type": "code",
   "execution_count": 397,
   "id": "9921944d-bd6f-443f-a870-57c1d63d9630",
   "metadata": {
    "tags": []
   },
   "outputs": [],
   "source": [
    "eol = pd.read_csv('eol-rir_data.csv', sep=',')\n",
    "sr_ei = pd.read_csv('sr_ei_data.csv', sep=',')\n",
    "data = pd.read_csv('full_data.csv', sep=',')\n",
    "data.drop(columns=['Unnamed: 0'],inplace=True)\n",
    "\n",
    "epi = pd.read_csv('epi_data.csv',sep=',')"
   ]
  },
  {
   "cell_type": "code",
   "execution_count": 396,
   "id": "5f776250-f6b4-458f-8245-8c50e5f9957e",
   "metadata": {
    "tags": []
   },
   "outputs": [],
   "source": [
    "data = pd.merge(eol,sr_ei)\n",
    "data['EOLR'] = data['EOLR']/100\n",
    "data.to_csv('full_data.csv')\n"
   ]
  },
  {
   "cell_type": "code",
   "execution_count": 379,
   "id": "4dc3df38-98e6-43b7-9993-94f9f119b7e1",
   "metadata": {
    "tags": []
   },
   "outputs": [],
   "source": [
    "# Convert epi values l,m,h to numeric\n",
    "num = {'l':0.00,'l-m':0.25,'m':0.5,'m-h':0.75,'h':1.0}\n",
    "epi = epi.applymap(lambda x: num[x] if x in num else x)\n",
    "\n"
   ]
  },
  {
   "cell_type": "code",
   "execution_count": 381,
   "id": "887ab694-d484-4e9c-bc1f-73cfffcd4a40",
   "metadata": {
    "tags": []
   },
   "outputs": [],
   "source": [
    "# Find duplicates in data\n",
    "\n",
    "#duplicates = eol[eol['Material'].duplicated(keep=False)]"
   ]
  },
  {
   "cell_type": "code",
   "execution_count": 399,
   "id": "9084a7df-1e1d-48c4-9450-c14d7fd3416d",
   "metadata": {
    "tags": []
   },
   "outputs": [],
   "source": [
    "# Find differences between 2 columns in 2 different df\n",
    "\n",
    "# Find namens in eol, that's not in sr_ei\n",
    "diff_eol = set(eol['Material'])-set(sr_ei['Material'])\n",
    "\n",
    "diff_epi = set(epi['Material'])-set(data['Material'])\n",
    "diff_data_epi = set(data['Material'])-set(epi['Material'])"
   ]
  },
  {
   "cell_type": "code",
   "execution_count": 403,
   "id": "275e4b6e-0f27-420c-b31a-dff540fbf78d",
   "metadata": {
    "tags": []
   },
   "outputs": [
    {
     "data": {
      "text/plain": [
       "{'Aggregates',\n",
       " 'Arsenic',\n",
       " 'Baryte',\n",
       " 'Bentonite',\n",
       " 'Boron',\n",
       " 'Cadmium',\n",
       " 'Diatomite',\n",
       " 'Feldspar',\n",
       " 'Hafnium',\n",
       " 'Helium',\n",
       " 'Hydrogen',\n",
       " 'Krypton',\n",
       " 'Limestone',\n",
       " 'Natural_Rubber',\n",
       " 'Natural_Teakwood',\n",
       " 'Natural_cork',\n",
       " 'Natural_graphite',\n",
       " 'Neon',\n",
       " 'PGM',\n",
       " 'Perlite',\n",
       " 'Phosphate_rock',\n",
       " 'Phosphorus',\n",
       " 'Potash',\n",
       " 'Rhenium',\n",
       " 'Roundwood',\n",
       " 'Sapele_wood',\n",
       " 'Scandium',\n",
       " 'Selenium',\n",
       " 'Silica',\n",
       " 'Silicon_metal',\n",
       " 'Silver',\n",
       " 'Strontium',\n",
       " 'Sulphur',\n",
       " 'Talc',\n",
       " 'Tantalum',\n",
       " 'Tellurium',\n",
       " 'Tin',\n",
       " 'Titanium',\n",
       " 'Titanium_metal',\n",
       " 'Tungsten',\n",
       " 'Vanadium',\n",
       " 'Xenon',\n",
       " 'Zinc',\n",
       " 'Zirconium'}"
      ]
     },
     "execution_count": 403,
     "metadata": {},
     "output_type": "execute_result"
    }
   ],
   "source": [
    "diff_data_epi"
   ]
  },
  {
   "cell_type": "code",
   "execution_count": 402,
   "id": "eb064eb6-7464-479f-acb9-28ff62862db7",
   "metadata": {
    "tags": []
   },
   "outputs": [],
   "source": [
    "# Sort by EOLR\n",
    "#data_sorted = data.sort_values(by=['EOLR'], axis=0, ascending=False, inplace=False, kind='quicksort')\n",
    "\n"
   ]
  },
  {
   "cell_type": "code",
   "execution_count": 356,
   "id": "00cd5893-09b2-470c-8d85-052de5f84b28",
   "metadata": {
    "tags": []
   },
   "outputs": [],
   "source": [
    "#critical = data[(data['SR']>=1.0) &(data['EI']>=1.0)]\n",
    "critical = data\n"
   ]
  },
  {
   "cell_type": "code",
   "execution_count": 357,
   "id": "eb6ba898-5cdf-4b51-ba8c-6085bd8f6bb3",
   "metadata": {
    "tags": []
   },
   "outputs": [],
   "source": [
    "critical = critical[['Material','EOLR','SR','EI']]\n",
    "norms = critical[['Material','EOLR','SR','EI']]"
   ]
  },
  {
   "cell_type": "code",
   "execution_count": 131,
   "id": "0a20da4a-270a-4283-9e6b-87d424a1a42c",
   "metadata": {
    "tags": []
   },
   "outputs": [],
   "source": [
    "scaler = StandardScaler()\n",
    "scaler = MinMaxScaler()"
   ]
  },
  {
   "cell_type": "code",
   "execution_count": 329,
   "id": "fe55a5a8-5d29-4dea-ae05-b9e9cf56152e",
   "metadata": {
    "tags": []
   },
   "outputs": [],
   "source": [
    "numerical_cols = ['EOLR','SR','EI']"
   ]
  },
  {
   "cell_type": "code",
   "execution_count": 133,
   "id": "a8b059dc-4de0-4c80-a757-5c533e35c897",
   "metadata": {
    "tags": []
   },
   "outputs": [],
   "source": [
    "norms[numerical_cols] = scaler.fit_transform(norms[numerical_cols])"
   ]
  },
  {
   "cell_type": "code",
   "execution_count": 134,
   "id": "1d78ed98-ecd2-4ba6-905f-7f512224c45f",
   "metadata": {
    "tags": []
   },
   "outputs": [],
   "source": [
    "TOcluster = norms[numerical_cols]"
   ]
  },
  {
   "cell_type": "code",
   "execution_count": 359,
   "id": "80796418-4954-4e2a-bf06-a95ac6781328",
   "metadata": {
    "tags": []
   },
   "outputs": [],
   "source": [
    "#dbscan = DBSCAN(eps=0.25, min_samples=3)\n",
    "#norms['Cluster'] = dbscan.fit_predict(TOcluster)\n",
    "\n",
    "#print(norms[['Material','Cluster']])"
   ]
  },
  {
   "cell_type": "code",
   "execution_count": 139,
   "id": "1f6c2e80-bdf2-4d87-a761-c5a69b79f718",
   "metadata": {
    "tags": []
   },
   "outputs": [
    {
     "data": {
      "image/png": "[encoded data removed]",
      "text/plain": [
       "<Figure size 640x480 with 2 Axes>"
      ]
     },
     "metadata": {},
     "output_type": "display_data"
    }
   ],
   "source": [
    "# Visualize (if 2D or 3D data)\n",
    "plt.scatter(norms['EoL-RIR (%)'], norms['EI'], c=norms['Cluster'], cmap='viridis', s=50)\n",
    "plt.title('DBSCAN Clustering')\n",
    "plt.xlabel('EoL-RIR (%)')\n",
    "plt.ylabel('EI')\n",
    "plt.colorbar(label='Cluster')\n",
    "plt.show()"
   ]
  },
  {
   "cell_type": "code",
   "execution_count": 137,
   "id": "e928bff5-3f78-4204-981e-1f64818dd372",
   "metadata": {
    "tags": []
   },
   "outputs": [
    {
     "data": {
      "text/html": [
       "<div>\n",
       "<style scoped>\n",
       "    .dataframe tbody tr th:only-of-type {\n",
       "        vertical-align: middle;\n",
       "    }\n",
       "\n",
       "    .dataframe tbody tr th {\n",
       "        vertical-align: top;\n",
       "    }\n",
       "\n",
       "    .dataframe thead th {\n",
       "        text-align: right;\n",
       "    }\n",
       "</style>\n",
       "<table border=\"1\" class=\"dataframe\">\n",
       "  <thead>\n",
       "    <tr style=\"text-align: right;\">\n",
       "      <th></th>\n",
       "      <th>Material</th>\n",
       "      <th>EoL-RIR (%)</th>\n",
       "      <th>SR</th>\n",
       "      <th>EI</th>\n",
       "    </tr>\n",
       "  </thead>\n",
       "  <tbody>\n",
       "    <tr>\n",
       "      <th>2</th>\n",
       "      <td>Phosphorus</td>\n",
       "      <td>0</td>\n",
       "      <td>3.3</td>\n",
       "      <td>4.7</td>\n",
       "    </tr>\n",
       "    <tr>\n",
       "      <th>26</th>\n",
       "      <td>Boron</td>\n",
       "      <td>1</td>\n",
       "      <td>3.6</td>\n",
       "      <td>3.9</td>\n",
       "    </tr>\n",
       "    <tr>\n",
       "      <th>27</th>\n",
       "      <td>LREE</td>\n",
       "      <td>1</td>\n",
       "      <td>3.7</td>\n",
       "      <td>5.9</td>\n",
       "    </tr>\n",
       "    <tr>\n",
       "      <th>53</th>\n",
       "      <td>Gallium</td>\n",
       "      <td>0</td>\n",
       "      <td>3.9</td>\n",
       "      <td>3.7</td>\n",
       "    </tr>\n",
       "    <tr>\n",
       "      <th>59</th>\n",
       "      <td>Niobium</td>\n",
       "      <td>0</td>\n",
       "      <td>4.4</td>\n",
       "      <td>6.5</td>\n",
       "    </tr>\n",
       "  </tbody>\n",
       "</table>\n",
       "</div>"
      ],
      "text/plain": [
       "      Material  EoL-RIR (%)   SR   EI\n",
       "2   Phosphorus            0  3.3  4.7\n",
       "26       Boron            1  3.6  3.9\n",
       "27        LREE            1  3.7  5.9\n",
       "53     Gallium            0  3.9  3.7\n",
       "59     Niobium            0  4.4  6.5"
      ]
     },
     "execution_count": 137,
     "metadata": {},
     "output_type": "execute_result"
    }
   ],
   "source": [
    "critical[norms['Cluster']==0]"
   ]
  },
  {
   "cell_type": "code",
   "execution_count": 371,
   "id": "41a8698a-fe97-4003-90ce-8e1e356c9947",
   "metadata": {
    "tags": []
   },
   "outputs": [],
   "source": [
    "# Criticality factor\n",
    "critical['Criticality'] = (critical['EOLR'])+critical['SR']+((critical['EI']))"
   ]
  },
  {
   "cell_type": "code",
   "execution_count": 372,
   "id": "14271006-c179-4151-a3a4-60c3a2be14f2",
   "metadata": {
    "tags": []
   },
   "outputs": [],
   "source": [
    "criticality_sorted = critical.sort_values(by=['Criticality'], axis=0, ascending=False, inplace=False, kind='quicksort')"
   ]
  },
  {
   "cell_type": "code",
   "execution_count": 244,
   "id": "47be6d2a-65c2-477b-b550-3cbc5f69413c",
   "metadata": {
    "tags": []
   },
   "outputs": [],
   "source": [
    "# Data for Iron-Based Alloys\n",
    "iron_alloys_data = {\n",
    "    \"Alloy\": [\"High-Speed Steel (M2)\", \"Maraging Steel (Grade 300)\", \"Tungsten Steel\"],\n",
    "    \"Iron\": [70, 75, 70],\n",
    "    \"Nickel\": [0, 18, 0],\n",
    "    \"Tungsten\": [6, 0, 25],\n",
    "    \"Cobalt\": [8, 9, 5],\n",
    "    \"Chromium\": [4, 0, 0],\n",
    "    \"Vanadium\": [2, 0, 0],\n",
    "    \"Titanium\": [0, 0.6, 0],\n",
    "    \"Molybdenum\": [5, 0.3, 0],\n",
    "    \"Carbon\": [1, 0, 0],\n",
    "}\n",
    "\n",
    "# Data for Aluminum-Based Alloys\n",
    "aluminum_alloys_data = {\n",
    "    \"Alloy\": [\"6061 Aluminum\", \"Al-Li 2090\", \"7055 Aluminum\"],\n",
    "    \"Aluminium\": [97, 90, 91],\n",
    "    \"Magnesium\": [1, 0.3, 2],\n",
    "    \"Silicon\": [0.6, 0, 0],\n",
    "    \"Copper\": [0.3, 2.7, 2],\n",
    "    \"Chromium\": [0.2, 0, 0],\n",
    "    \"Lithium\": [0, 2.5, 0],\n",
    "    \"Zirconium\": [0, 0.1, 0],\n",
    "    \"Zinc\": [0, 0, 8],\n",
    "    \"Titanium\": [0, 0, 0.2],\n",
    "}\n",
    "\n",
    "# Data for Nickel-Based Alloys\n",
    "nickel_alloys_data = {\n",
    "    \"Alloy\": [\"Inconel 718\"],\n",
    "    \"Nickel\": [52],\n",
    "    \"Iron\": [18],\n",
    "    \"Chromium\": [19],\n",
    "    \"Molybdenum\": [3],\n",
    "    \"Niobium\": [5],\n",
    "    \"Titanium\": [1],\n",
    "    \"Cobalt\": [1],\n",
    "}\n",
    "\n",
    "# Data for Titanium-Based Alloys\n",
    "titanium_alloys_data = {\n",
    "    \"Alloy\": [\"Ti-6Al-4V\", \"Ti-10V-2Fe-3Al\"],\n",
    "    \"Titanium\": [89, 86],\n",
    "    \"Aluminum\": [6, 3],\n",
    "    \"Vanadium\": [4, 10],\n",
    "    \"Iron\": [0.25, 2],\n",
    "}\n",
    "\n",
    "# Convert to DataFrames\n",
    "iron_alloys_df = pd.DataFrame(iron_alloys_data).fillna(0).T\n",
    "aluminium_alloys_df = pd.DataFrame(aluminum_alloys_data).fillna(0).T\n",
    "nickel_alloys_df = pd.DataFrame(nickel_alloys_data).fillna(0).T\n",
    "titanium_alloys_df = pd.DataFrame(titanium_alloys_data).fillna(0).T"
   ]
  },
  {
   "cell_type": "code",
   "execution_count": 246,
   "id": "1b7918a4-5a0b-48d4-acd4-1e85b12636af",
   "metadata": {
    "tags": []
   },
   "outputs": [
    {
     "data": {
      "text/html": [
       "<div>\n",
       "<style scoped>\n",
       "    .dataframe tbody tr th:only-of-type {\n",
       "        vertical-align: middle;\n",
       "    }\n",
       "\n",
       "    .dataframe tbody tr th {\n",
       "        vertical-align: top;\n",
       "    }\n",
       "\n",
       "    .dataframe thead th {\n",
       "        text-align: right;\n",
       "    }\n",
       "</style>\n",
       "<table border=\"1\" class=\"dataframe\">\n",
       "  <thead>\n",
       "    <tr style=\"text-align: right;\">\n",
       "      <th></th>\n",
       "      <th>0</th>\n",
       "    </tr>\n",
       "  </thead>\n",
       "  <tbody>\n",
       "    <tr>\n",
       "      <th>Alloy</th>\n",
       "      <td>Inconel 718</td>\n",
       "    </tr>\n",
       "    <tr>\n",
       "      <th>Nickel</th>\n",
       "      <td>52</td>\n",
       "    </tr>\n",
       "    <tr>\n",
       "      <th>Iron</th>\n",
       "      <td>18</td>\n",
       "    </tr>\n",
       "    <tr>\n",
       "      <th>Chromium</th>\n",
       "      <td>19</td>\n",
       "    </tr>\n",
       "    <tr>\n",
       "      <th>Molybdenum</th>\n",
       "      <td>3</td>\n",
       "    </tr>\n",
       "    <tr>\n",
       "      <th>Niobium</th>\n",
       "      <td>5</td>\n",
       "    </tr>\n",
       "    <tr>\n",
       "      <th>Titanium</th>\n",
       "      <td>1</td>\n",
       "    </tr>\n",
       "    <tr>\n",
       "      <th>Cobalt</th>\n",
       "      <td>1</td>\n",
       "    </tr>\n",
       "  </tbody>\n",
       "</table>\n",
       "</div>"
      ],
      "text/plain": [
       "                      0\n",
       "Alloy       Inconel 718\n",
       "Nickel               52\n",
       "Iron                 18\n",
       "Chromium             19\n",
       "Molybdenum            3\n",
       "Niobium               5\n",
       "Titanium              1\n",
       "Cobalt                1"
      ]
     },
     "execution_count": 246,
     "metadata": {},
     "output_type": "execute_result"
    }
   ],
   "source": [
    "nickel_alloys_df"
   ]
  },
  {
   "cell_type": "code",
   "execution_count": 352,
   "id": "1f6b9c91-a5ca-4c14-a28b-c44891406c3d",
   "metadata": {
    "tags": []
   },
   "outputs": [],
   "source": [
    "M2 = iron_alloys_df.iloc[1:,0]\n",
    "G300 = iron_alloys_df.iloc[1:,1]\n",
    "Tungs = iron_alloys_df.iloc[1:,2]\n",
    "\n",
    "inconel = nickel_alloys_df.iloc[1:,0]"
   ]
  },
  {
   "cell_type": "code",
   "execution_count": 353,
   "id": "b2bc68fa-4c87-4965-93c9-e174d1d7b52a",
   "metadata": {
    "tags": []
   },
   "outputs": [],
   "source": [
    "# Merge alloy and it's material params\n",
    "\n",
    "def merge_alloy_data(material_df,alloy):\n",
    "    merged_d = pd.merge(material_df,alloy.rename(\"Composition\"), \n",
    "                    left_on=\"Material\", \n",
    "                    right_index=True, \n",
    "                    how=\"inner\")\n",
    "    return merged_d.astype({'Composition':'float64'})\n",
    "\n",
    "\n",
    "    "
   ]
  },
  {
   "cell_type": "code",
   "execution_count": 373,
   "id": "048b0fd2-207e-4869-865d-5f5433527051",
   "metadata": {
    "tags": []
   },
   "outputs": [],
   "source": [
    "G300_merge = merge_alloy_data(critical,G300)\n",
    "M2_merge = merge_alloy_data(critical,M2)\n",
    "inco_merge = merge_alloy_data(critical,inconel)"
   ]
  },
  {
   "cell_type": "code",
   "execution_count": 374,
   "id": "d4f89c72-b071-4650-b324-d5f5073812f9",
   "metadata": {
    "tags": []
   },
   "outputs": [
    {
     "data": {
      "text/html": [
       "<div>\n",
       "<style scoped>\n",
       "    .dataframe tbody tr th:only-of-type {\n",
       "        vertical-align: middle;\n",
       "    }\n",
       "\n",
       "    .dataframe tbody tr th {\n",
       "        vertical-align: top;\n",
       "    }\n",
       "\n",
       "    .dataframe thead th {\n",
       "        text-align: right;\n",
       "    }\n",
       "</style>\n",
       "<table border=\"1\" class=\"dataframe\">\n",
       "  <thead>\n",
       "    <tr style=\"text-align: right;\">\n",
       "      <th></th>\n",
       "      <th>Material</th>\n",
       "      <th>EOLR</th>\n",
       "      <th>SR</th>\n",
       "      <th>EI</th>\n",
       "      <th>Criticality</th>\n",
       "      <th>Composition</th>\n",
       "    </tr>\n",
       "  </thead>\n",
       "  <tbody>\n",
       "    <tr>\n",
       "      <th>32</th>\n",
       "      <td>Chromium</td>\n",
       "      <td>0.21</td>\n",
       "      <td>0.7</td>\n",
       "      <td>7.2</td>\n",
       "      <td>8.11</td>\n",
       "      <td>0.0</td>\n",
       "    </tr>\n",
       "    <tr>\n",
       "      <th>35</th>\n",
       "      <td>Cobalt</td>\n",
       "      <td>0.22</td>\n",
       "      <td>2.8</td>\n",
       "      <td>6.8</td>\n",
       "      <td>9.82</td>\n",
       "      <td>9.0</td>\n",
       "    </tr>\n",
       "    <tr>\n",
       "      <th>39</th>\n",
       "      <td>Molybdenum</td>\n",
       "      <td>0.30</td>\n",
       "      <td>0.8</td>\n",
       "      <td>6.7</td>\n",
       "      <td>7.80</td>\n",
       "      <td>0.3</td>\n",
       "    </tr>\n",
       "    <tr>\n",
       "      <th>49</th>\n",
       "      <td>Titanium</td>\n",
       "      <td>0.01</td>\n",
       "      <td>0.5</td>\n",
       "      <td>5.4</td>\n",
       "      <td>5.91</td>\n",
       "      <td>0.6</td>\n",
       "    </tr>\n",
       "    <tr>\n",
       "      <th>56</th>\n",
       "      <td>Nickel</td>\n",
       "      <td>0.16</td>\n",
       "      <td>0.5</td>\n",
       "      <td>5.7</td>\n",
       "      <td>6.36</td>\n",
       "      <td>18.0</td>\n",
       "    </tr>\n",
       "    <tr>\n",
       "      <th>57</th>\n",
       "      <td>Tungsten</td>\n",
       "      <td>0.42</td>\n",
       "      <td>1.2</td>\n",
       "      <td>8.7</td>\n",
       "      <td>10.32</td>\n",
       "      <td>0.0</td>\n",
       "    </tr>\n",
       "    <tr>\n",
       "      <th>60</th>\n",
       "      <td>Vanadium</td>\n",
       "      <td>0.06</td>\n",
       "      <td>2.3</td>\n",
       "      <td>3.9</td>\n",
       "      <td>6.26</td>\n",
       "      <td>0.0</td>\n",
       "    </tr>\n",
       "  </tbody>\n",
       "</table>\n",
       "</div>"
      ],
      "text/plain": [
       "      Material  EOLR   SR   EI  Criticality  Composition\n",
       "32    Chromium  0.21  0.7  7.2         8.11          0.0\n",
       "35      Cobalt  0.22  2.8  6.8         9.82          9.0\n",
       "39  Molybdenum  0.30  0.8  6.7         7.80          0.3\n",
       "49    Titanium  0.01  0.5  5.4         5.91          0.6\n",
       "56      Nickel  0.16  0.5  5.7         6.36         18.0\n",
       "57    Tungsten  0.42  1.2  8.7        10.32          0.0\n",
       "60    Vanadium  0.06  2.3  3.9         6.26          0.0"
      ]
     },
     "execution_count": 374,
     "metadata": {},
     "output_type": "execute_result"
    }
   ],
   "source": [
    "G300_merge"
   ]
  },
  {
   "cell_type": "code",
   "execution_count": 365,
   "id": "f69eb5f0-f513-4448-b45b-94c767e66077",
   "metadata": {
    "tags": []
   },
   "outputs": [],
   "source": [
    "def calculate_weighted_params(df):\n",
    "    df = df[df['Composition']>0]\n",
    "    df_ei = df['EI']*df['Criticality']*((df['Composition'])/100)\n",
    "    df_sr = df['SR']*df['Criticality']*(df['Composition']/100)\n",
    "    df_eol = df['EOLR']*df['Criticality']*(df['Composition']/100)\n",
    "    return df_eol.sum().round(3), df_sr.sum().round(3), df_ei.sum().round(3)"
   ]
  },
  {
   "cell_type": "code",
   "execution_count": 366,
   "id": "f32215aa-f8d4-47b9-8bd8-7ffd36cf7c99",
   "metadata": {
    "tags": []
   },
   "outputs": [],
   "source": [
    "G300composite = calculate_weighted_params(G300_merge)\n",
    "M2composite = calculate_weighted_params(M2_merge)\n",
    "incocomposite = calculate_weighted_params(inco_merge)"
   ]
  },
  {
   "cell_type": "code",
   "execution_count": 367,
   "id": "9423a332-82d8-424a-9b28-d3ef2b8acdf3",
   "metadata": {
    "tags": []
   },
   "outputs": [
    {
     "data": {
      "text/plain": [
       "(0.416, 3.29, 13.964)"
      ]
     },
     "execution_count": 367,
     "metadata": {},
     "output_type": "execute_result"
    }
   ],
   "source": [
    "G300composite"
   ]
  },
  {
   "cell_type": "code",
   "execution_count": 368,
   "id": "1cc8c8fe-5f70-49b6-9601-55d50bf740a2",
   "metadata": {
    "tags": []
   },
   "outputs": [
    {
     "data": {
      "text/plain": [
       "(0.651, 3.979, 16.924)"
      ]
     },
     "execution_count": 368,
     "metadata": {},
     "output_type": "execute_result"
    }
   ],
   "source": [
    "M2composite"
   ]
  },
  {
   "cell_type": "code",
   "execution_count": 369,
   "id": "01145ad3-abc2-4e27-8da8-184533b4750e",
   "metadata": {
    "tags": []
   },
   "outputs": [
    {
     "data": {
      "text/html": [
       "<div>\n",
       "<style scoped>\n",
       "    .dataframe tbody tr th:only-of-type {\n",
       "        vertical-align: middle;\n",
       "    }\n",
       "\n",
       "    .dataframe tbody tr th {\n",
       "        vertical-align: top;\n",
       "    }\n",
       "\n",
       "    .dataframe thead th {\n",
       "        text-align: right;\n",
       "    }\n",
       "</style>\n",
       "<table border=\"1\" class=\"dataframe\">\n",
       "  <thead>\n",
       "    <tr style=\"text-align: right;\">\n",
       "      <th></th>\n",
       "      <th>Material</th>\n",
       "      <th>EOLR</th>\n",
       "      <th>SR</th>\n",
       "      <th>EI</th>\n",
       "      <th>Criticality</th>\n",
       "      <th>Composition</th>\n",
       "    </tr>\n",
       "  </thead>\n",
       "  <tbody>\n",
       "    <tr>\n",
       "      <th>32</th>\n",
       "      <td>Chromium</td>\n",
       "      <td>0.21</td>\n",
       "      <td>0.7</td>\n",
       "      <td>7.2</td>\n",
       "      <td>8.69</td>\n",
       "      <td>4.0</td>\n",
       "    </tr>\n",
       "    <tr>\n",
       "      <th>35</th>\n",
       "      <td>Cobalt</td>\n",
       "      <td>0.22</td>\n",
       "      <td>2.8</td>\n",
       "      <td>6.8</td>\n",
       "      <td>10.38</td>\n",
       "      <td>8.0</td>\n",
       "    </tr>\n",
       "    <tr>\n",
       "      <th>39</th>\n",
       "      <td>Molybdenum</td>\n",
       "      <td>0.30</td>\n",
       "      <td>0.8</td>\n",
       "      <td>6.7</td>\n",
       "      <td>8.20</td>\n",
       "      <td>5.0</td>\n",
       "    </tr>\n",
       "    <tr>\n",
       "      <th>49</th>\n",
       "      <td>Titanium</td>\n",
       "      <td>0.01</td>\n",
       "      <td>0.5</td>\n",
       "      <td>5.4</td>\n",
       "      <td>6.89</td>\n",
       "      <td>0.0</td>\n",
       "    </tr>\n",
       "    <tr>\n",
       "      <th>56</th>\n",
       "      <td>Nickel</td>\n",
       "      <td>0.16</td>\n",
       "      <td>0.5</td>\n",
       "      <td>5.7</td>\n",
       "      <td>7.04</td>\n",
       "      <td>0.0</td>\n",
       "    </tr>\n",
       "    <tr>\n",
       "      <th>57</th>\n",
       "      <td>Tungsten</td>\n",
       "      <td>0.42</td>\n",
       "      <td>1.2</td>\n",
       "      <td>8.7</td>\n",
       "      <td>10.48</td>\n",
       "      <td>6.0</td>\n",
       "    </tr>\n",
       "    <tr>\n",
       "      <th>60</th>\n",
       "      <td>Vanadium</td>\n",
       "      <td>0.06</td>\n",
       "      <td>2.3</td>\n",
       "      <td>3.9</td>\n",
       "      <td>7.14</td>\n",
       "      <td>2.0</td>\n",
       "    </tr>\n",
       "  </tbody>\n",
       "</table>\n",
       "</div>"
      ],
      "text/plain": [
       "      Material  EOLR   SR   EI  Criticality  Composition\n",
       "32    Chromium  0.21  0.7  7.2         8.69          4.0\n",
       "35      Cobalt  0.22  2.8  6.8        10.38          8.0\n",
       "39  Molybdenum  0.30  0.8  6.7         8.20          5.0\n",
       "49    Titanium  0.01  0.5  5.4         6.89          0.0\n",
       "56      Nickel  0.16  0.5  5.7         7.04          0.0\n",
       "57    Tungsten  0.42  1.2  8.7        10.48          6.0\n",
       "60    Vanadium  0.06  2.3  3.9         7.14          2.0"
      ]
     },
     "execution_count": 369,
     "metadata": {},
     "output_type": "execute_result"
    }
   ],
   "source": [
    "M2_merge"
   ]
  },
  {
   "cell_type": "code",
   "execution_count": 370,
   "id": "651e0f8a-e00b-4203-8acf-569bbba35dc6",
   "metadata": {
    "tags": []
   },
   "outputs": [
    {
     "data": {
      "text/html": [
       "<div>\n",
       "<style scoped>\n",
       "    .dataframe tbody tr th:only-of-type {\n",
       "        vertical-align: middle;\n",
       "    }\n",
       "\n",
       "    .dataframe tbody tr th {\n",
       "        vertical-align: top;\n",
       "    }\n",
       "\n",
       "    .dataframe thead th {\n",
       "        text-align: right;\n",
       "    }\n",
       "</style>\n",
       "<table border=\"1\" class=\"dataframe\">\n",
       "  <thead>\n",
       "    <tr style=\"text-align: right;\">\n",
       "      <th></th>\n",
       "      <th>Material</th>\n",
       "      <th>EOLR</th>\n",
       "      <th>SR</th>\n",
       "      <th>EI</th>\n",
       "      <th>Criticality</th>\n",
       "      <th>Composition</th>\n",
       "    </tr>\n",
       "  </thead>\n",
       "  <tbody>\n",
       "    <tr>\n",
       "      <th>32</th>\n",
       "      <td>Chromium</td>\n",
       "      <td>0.21</td>\n",
       "      <td>0.7</td>\n",
       "      <td>7.2</td>\n",
       "      <td>8.69</td>\n",
       "      <td>0.0</td>\n",
       "    </tr>\n",
       "    <tr>\n",
       "      <th>35</th>\n",
       "      <td>Cobalt</td>\n",
       "      <td>0.22</td>\n",
       "      <td>2.8</td>\n",
       "      <td>6.8</td>\n",
       "      <td>10.38</td>\n",
       "      <td>9.0</td>\n",
       "    </tr>\n",
       "    <tr>\n",
       "      <th>39</th>\n",
       "      <td>Molybdenum</td>\n",
       "      <td>0.30</td>\n",
       "      <td>0.8</td>\n",
       "      <td>6.7</td>\n",
       "      <td>8.20</td>\n",
       "      <td>0.3</td>\n",
       "    </tr>\n",
       "    <tr>\n",
       "      <th>49</th>\n",
       "      <td>Titanium</td>\n",
       "      <td>0.01</td>\n",
       "      <td>0.5</td>\n",
       "      <td>5.4</td>\n",
       "      <td>6.89</td>\n",
       "      <td>0.6</td>\n",
       "    </tr>\n",
       "    <tr>\n",
       "      <th>56</th>\n",
       "      <td>Nickel</td>\n",
       "      <td>0.16</td>\n",
       "      <td>0.5</td>\n",
       "      <td>5.7</td>\n",
       "      <td>7.04</td>\n",
       "      <td>18.0</td>\n",
       "    </tr>\n",
       "    <tr>\n",
       "      <th>57</th>\n",
       "      <td>Tungsten</td>\n",
       "      <td>0.42</td>\n",
       "      <td>1.2</td>\n",
       "      <td>8.7</td>\n",
       "      <td>10.48</td>\n",
       "      <td>0.0</td>\n",
       "    </tr>\n",
       "    <tr>\n",
       "      <th>60</th>\n",
       "      <td>Vanadium</td>\n",
       "      <td>0.06</td>\n",
       "      <td>2.3</td>\n",
       "      <td>3.9</td>\n",
       "      <td>7.14</td>\n",
       "      <td>0.0</td>\n",
       "    </tr>\n",
       "  </tbody>\n",
       "</table>\n",
       "</div>"
      ],
      "text/plain": [
       "      Material  EOLR   SR   EI  Criticality  Composition\n",
       "32    Chromium  0.21  0.7  7.2         8.69          0.0\n",
       "35      Cobalt  0.22  2.8  6.8        10.38          9.0\n",
       "39  Molybdenum  0.30  0.8  6.7         8.20          0.3\n",
       "49    Titanium  0.01  0.5  5.4         6.89          0.6\n",
       "56      Nickel  0.16  0.5  5.7         7.04         18.0\n",
       "57    Tungsten  0.42  1.2  8.7        10.48          0.0\n",
       "60    Vanadium  0.06  2.3  3.9         7.14          0.0"
      ]
     },
     "execution_count": 370,
     "metadata": {},
     "output_type": "execute_result"
    }
   ],
   "source": [
    "G300_merge"
   ]
  },
  {
   "cell_type": "code",
   "execution_count": null,
   "id": "a615f08c-1178-4421-9dc4-a9c5504d28a8",
   "metadata": {},
   "outputs": [],
   "source": []
  }
 ],
 "metadata": {
  "kernelspec": {
   "display_name": "Python 3 (ipykernel)",
   "language": "python",
   "name": "python3"
  },
  "language_info": {
   "codemirror_mode": {
    "name": "ipython",
    "version": 3
   },
   "file_extension": ".py",
   "mimetype": "text/x-python",
   "name": "python",
   "nbconvert_exporter": "python",
   "pygments_lexer": "ipython3",
   "version": "3.11.5"
  }
 },
 "nbformat": 4,
 "nbformat_minor": 5
}
